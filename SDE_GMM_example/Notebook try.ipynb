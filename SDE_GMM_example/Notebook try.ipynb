{
 "cells": [
  {
   "cell_type": "code",
   "execution_count": 1,
   "metadata": {},
   "outputs": [],
   "source": [
    "from Dataset import build_dataset\n",
    "from Diffusion import DiffusionModel\n",
    "import matplotlib.pyplot as plt"
   ]
  },
  {
   "cell_type": "code",
   "execution_count": 50,
   "metadata": {},
   "outputs": [],
   "source": [
    "n_rows = 64*400  # Total number of rows in the dataset\n",
    "n_samples_per_row = 100  # Samples per row (from GMM)\n",
    "means = [0, 5, -5]  # Means of the Gaussian components\n",
    "variances = [1, 0.5, 0.78]  # Variances of the components\n",
    "weights = [0.4, 0.4, 0.2]  # Mixing coefficients (must sum to 1)\n",
    "\n",
    "# Generate the dataset\n",
    "dataset, mean, var  = build_dataset(n_rows, n_samples_per_row, means, variances, weights, 32)"
   ]
  },
  {
   "cell_type": "code",
   "execution_count": null,
   "metadata": {},
   "outputs": [],
   "source": [
    "model = DiffusionModel(42, 100, (40), 100, 1e-5, False, 40, 1000,  0.3, 60, 1e-4, 32)\n",
    "model.training(dataset)\n",
    "l = model.sampling_DDPM()"
   ]
  },
  {
   "cell_type": "code",
   "execution_count": null,
   "metadata": {},
   "outputs": [],
   "source": [
    "plt.hist(next(iter(dataset))[0], bins=30,color='blue')\n",
    "plt.hist(l[-1].squeeze(), bins=30, color='red')\n",
    "plt.show()"
   ]
  }
 ],
 "metadata": {
  "kernelspec": {
   "display_name": "myenv_jax_dl",
   "language": "python",
   "name": "python3"
  },
  "language_info": {
   "codemirror_mode": {
    "name": "ipython",
    "version": 3
   },
   "file_extension": ".py",
   "mimetype": "text/x-python",
   "name": "python",
   "nbconvert_exporter": "python",
   "pygments_lexer": "ipython3",
   "version": "3.11.4"
  }
 },
 "nbformat": 4,
 "nbformat_minor": 2
}
